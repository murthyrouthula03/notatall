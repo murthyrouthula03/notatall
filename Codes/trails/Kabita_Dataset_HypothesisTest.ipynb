{
 "cells": [
  {
   "cell_type": "code",
   "execution_count": 1,
   "id": "405bad60",
   "metadata": {},
   "outputs": [],
   "source": [
    "# Importing Libraries\n",
    "try:\n",
    "    import pandas as pd\n",
    "    import numpy as np\n",
    "    import os,sys\n",
    "    import re\n",
    "    import matplotlib.pyplot as plt\n",
    "    # importing algorithms\n",
    "    from sklearn.model_selection import train_test_split\n",
    "    from sklearn.linear_model import LogisticRegression\n",
    "    from sklearn.model_selection import KFold, cross_val_score\n",
    "    from sklearn import svm\n",
    "    from sklearn.metrics import confusion_matrix, classification_report\n",
    "    from sklearn.preprocessing import StandardScaler, Normalizer\n",
    "except Exception as e:\n",
    "    print(\"Error is due to\",e)\n",
    "pwd = os.getcwd()\n",
    "labels_df = pd.read_csv(pwd+\"//Datasets//Kabita//Input//kabita_dataset_labels.csv\")\n",
    "y_df = labels_df['kabita_labels']"
   ]
  },
  {
   "cell_type": "markdown",
   "id": "87a83940",
   "metadata": {},
   "source": [
    "### Hypothesis test of Standard Scaled GPT Fine tuned Hinglish Logistic and SVM Models"
   ]
  },
  {
   "cell_type": "code",
   "execution_count": 2,
   "id": "444b679f",
   "metadata": {},
   "outputs": [],
   "source": [
    "# GPT Hinglish vectorized data\n",
    "x_df = pd.read_csv(pwd+\"//Datasets//Kabita//FineTunedTransformers//gpt_hinglish_finetuned_vectorized_kabita_dataset.csv\")\n",
    "\n",
    "# Total data transform\n",
    "standard_model = StandardScaler()\n",
    "scaled_data = standard_model.fit_transform(x_df)\n",
    "\n",
    "# Test train split\n",
    "x_train,x_test,y_train,y_test = train_test_split(x_df, y_df, test_size=0.30,random_state=21,stratify=y_df)\n",
    "\n",
    "# Standard scaling of train data\n",
    "standard_model = StandardScaler()\n",
    "sscaled_data_train = standard_model.fit_transform(x_train)\n",
    "# Standard scaling of test data\n",
    "sscaled_data_test = standard_model.fit_transform(x_test)"
   ]
  },
  {
   "cell_type": "code",
   "execution_count": 3,
   "id": "ce410450",
   "metadata": {},
   "outputs": [
    {
     "name": "stdout",
     "output_type": "stream",
     "text": [
      "SVM Model Accuracy is: 0.7979591836734694\n"
     ]
    }
   ],
   "source": [
    "# SVM Model\n",
    "\n",
    "# Modelling according to the hyper parameters\n",
    "\n",
    "svm_model = svm.SVC(kernel='rbf')\n",
    "\n",
    "svm_model.fit(sscaled_data_train, y_train)\n",
    "\n",
    "print(\"SVM Model Accuracy is:\", svm_model.score(sscaled_data_test, y_test))"
   ]
  },
  {
   "cell_type": "code",
   "execution_count": 4,
   "id": "b0275168",
   "metadata": {},
   "outputs": [
    {
     "name": "stdout",
     "output_type": "stream",
     "text": [
      "Logistic Regression Model Accuracy is: 0.7816326530612245\n"
     ]
    }
   ],
   "source": [
    "# Logistic Regression\n",
    "\n",
    "lr_model = LogisticRegression(max_iter=5000)\n",
    "\n",
    "lr_model.fit(sscaled_data_train, y_train)\n",
    "\n",
    "print(\"Logistic Regression Model Accuracy is:\", lr_model.score(sscaled_data_test, y_test))"
   ]
  },
  {
   "cell_type": "code",
   "execution_count": 5,
   "id": "b21fc751",
   "metadata": {},
   "outputs": [
    {
     "name": "stdout",
     "output_type": "stream",
     "text": [
      "H0: There is no difference between the Two models.\n",
      "H1: One Model is best than other.\n",
      "t statistic: 1.450\n",
      "aplha  0.05\n",
      "p value: 0.207\n",
      "Fail to reject null hypotesis\n"
     ]
    }
   ],
   "source": [
    "from mlxtend.evaluate import paired_ttest_5x2cv\n",
    "\n",
    "t, p = paired_ttest_5x2cv(estimator1=svm_model,estimator2=lr_model,X=scaled_data, y=y_df)\n",
    "alpha = 0.05\n",
    "\n",
    "print(\"H0: There is no difference between the Two models.\\nH1: One Model is best than other.\")\n",
    "\n",
    "print('t statistic: %.3f' % t)\n",
    "print('aplha ', alpha)\n",
    "print('p value: %.3f' % p)\n",
    "\n",
    "if p > alpha:\n",
    "    print(\"Fail to reject null hypotesis\")\n",
    "else:\n",
    "    print(\"Reject null hypotesis\")"
   ]
  },
  {
   "cell_type": "code",
   "execution_count": 6,
   "id": "2c9f8ad1",
   "metadata": {},
   "outputs": [
    {
     "name": "stdout",
     "output_type": "stream",
     "text": [
      "SVM Accuracy: 78.40816326530613\n",
      "Logistic Regression Accuracy: 75.9795918367347\n"
     ]
    },
    {
     "data": {
      "image/png": "[encoded data removed]",
      "text/plain": [
       "<Figure size 432x288 with 1 Axes>"
      ]
     },
     "metadata": {
      "needs_background": "light"
     },
     "output_type": "display_data"
    }
   ],
   "source": [
    "# Applying K-Fold\n",
    "kfold = KFold(n_splits=10)\n",
    "\n",
    "# SVM Model\n",
    "svm_model = svm.SVC(kernel='rbf')\n",
    "svm_results = cross_val_score(svm_model, scaled_data, y_df, cv=kfold)\n",
    "print(\"SVM Accuracy:\", svm_results.mean()*100.0)\n",
    "\n",
    "# Logistic Regression Model\n",
    "lr_model = LogisticRegression(max_iter=5000)\n",
    "lr_results = cross_val_score(lr_model, scaled_data, y_df, cv=kfold)\n",
    "print(\"Logistic Regression Accuracy:\", lr_results.mean()*100.0)\n",
    "\n",
    "# plotting the mean scores\n",
    "plt.boxplot([svm_results, lr_results], labels=['SVM_Model', 'LogicReg_Model'], showmeans=True)\n",
    "plt.show()"
   ]
  },
  {
   "cell_type": "markdown",
   "id": "79828dc8",
   "metadata": {},
   "source": [
    "### Hypothesis test of Normalize Scaled Verloop Hinglish Logistic and SVM Models"
   ]
  },
  {
   "cell_type": "code",
   "execution_count": 7,
   "id": "82db7688",
   "metadata": {},
   "outputs": [],
   "source": [
    "# Verloop Hinglish vectorized data\n",
    "x_df = pd.read_csv(pwd+\"//Datasets//Kabita//SentenceTransformers//bert_vectorized_kabita_dataset_vbert.csv\")\n",
    "\n",
    "# Total data transform\n",
    "normalize_model = Normalizer()\n",
    "scaled_data = normalize_model.fit_transform(x_df)\n",
    "\n",
    "# Test train split\n",
    "x_train,x_test,y_train,y_test = train_test_split(x_df, y_df, test_size=0.30,random_state=21,stratify=y_df)\n",
    "\n",
    "# Normalize scaling of train data\n",
    "normalize_model = Normalizer()\n",
    "nscaled_data_train = normalize_model.fit_transform(x_train)\n",
    "# Normalize scaling of test data\n",
    "nscaled_data_test = normalize_model.fit_transform(x_test)"
   ]
  },
  {
   "cell_type": "code",
   "execution_count": 8,
   "id": "e5dad257",
   "metadata": {},
   "outputs": [
    {
     "name": "stdout",
     "output_type": "stream",
     "text": [
      "SVM Model Accuracy is: 0.7952380952380952\n"
     ]
    }
   ],
   "source": [
    "# SVM Model\n",
    "\n",
    "# Modelling according to the hyper parameters\n",
    "\n",
    "svm_model = svm.SVC(kernel='poly')\n",
    "\n",
    "svm_model.fit(nscaled_data_train, y_train)\n",
    "\n",
    "print(\"SVM Model Accuracy is:\", svm_model.score(nscaled_data_test, y_test))"
   ]
  },
  {
   "cell_type": "code",
   "execution_count": 9,
   "id": "0ac2673c",
   "metadata": {},
   "outputs": [
    {
     "name": "stdout",
     "output_type": "stream",
     "text": [
      "Logistic Regression Model Accuracy is: 0.7537414965986394\n"
     ]
    }
   ],
   "source": [
    "# Logistic Regression\n",
    "\n",
    "lr_model = LogisticRegression(max_iter=5000)\n",
    "\n",
    "lr_model.fit(nscaled_data_train, y_train)\n",
    "\n",
    "print(\"Logistic Regression Model Accuracy is:\", lr_model.score(nscaled_data_test, y_test))"
   ]
  },
  {
   "cell_type": "code",
   "execution_count": 10,
   "id": "97e018f2",
   "metadata": {},
   "outputs": [
    {
     "name": "stdout",
     "output_type": "stream",
     "text": [
      "H0: There is no difference between the Two models.\n",
      "H1: One Model is best than other.\n",
      "t statistic: 9.930\n",
      "aplha  0.05\n",
      "p value: 0.000\n",
      "Reject null hypotesis\n"
     ]
    }
   ],
   "source": [
    "from mlxtend.evaluate import paired_ttest_5x2cv\n",
    "\n",
    "t, p = paired_ttest_5x2cv(estimator1=svm_model,estimator2=lr_model,X=scaled_data, y=y_df)\n",
    "alpha = 0.05\n",
    "\n",
    "print(\"H0: There is no difference between the Two models.\\nH1: One Model is best than other.\")\n",
    "\n",
    "print('t statistic: %.3f' % t)\n",
    "print('aplha ', alpha)\n",
    "print('p value: %.3f' % p)\n",
    "\n",
    "if p > alpha:\n",
    "    print(\"Fail to reject null hypotesis\")\n",
    "else:\n",
    "    print(\"Reject null hypotesis\")"
   ]
  },
  {
   "cell_type": "code",
   "execution_count": 11,
   "id": "02f7bd1d",
   "metadata": {},
   "outputs": [
    {
     "name": "stdout",
     "output_type": "stream",
     "text": [
      "SVM Accuracy: 77.85714285714285\n",
      "Logistic Regression Accuracy: 74.91836734693878\n"
     ]
    },
    {
     "data": {
      "image/png": "[encoded data removed]",
      "text/plain": [
       "<Figure size 432x288 with 1 Axes>"
      ]
     },
     "metadata": {
      "needs_background": "light"
     },
     "output_type": "display_data"
    }
   ],
   "source": [
    "# Applying K-Fold\n",
    "kfold = KFold(n_splits=10)\n",
    "\n",
    "# SVM Model\n",
    "svm_model = svm.SVC(kernel='rbf')\n",
    "svm_results = cross_val_score(svm_model, scaled_data, y_df, cv=kfold)\n",
    "print(\"SVM Accuracy:\", svm_results.mean()*100.0)\n",
    "\n",
    "# Logistic Regression Model\n",
    "lr_model = LogisticRegression(max_iter=5000)\n",
    "lr_results = cross_val_score(lr_model, scaled_data, y_df, cv=kfold)\n",
    "print(\"Logistic Regression Accuracy:\", lr_results.mean()*100.0)\n",
    "\n",
    "# plotting the mean scores\n",
    "plt.boxplot([svm_results, lr_results], labels=['SVM_Model', 'LogicReg_Model'], showmeans=True)\n",
    "plt.show()"
   ]
  }
 ],
 "metadata": {
  "kernelspec": {
   "display_name": "Python 3 (ipykernel)",
   "language": "python",
   "name": "python3"
  },
  "language_info": {
   "codemirror_mode": {
    "name": "ipython",
    "version": 3
   },
   "file_extension": ".py",
   "mimetype": "text/x-python",
   "name": "python",
   "nbconvert_exporter": "python",
   "pygments_lexer": "ipython3",
   "version": "3.9.7"
  }
 },
 "nbformat": 4,
 "nbformat_minor": 5
}
