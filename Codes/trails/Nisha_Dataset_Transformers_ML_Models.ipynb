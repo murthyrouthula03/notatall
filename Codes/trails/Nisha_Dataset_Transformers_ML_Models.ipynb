{
 "cells": [
  {
   "cell_type": "code",
   "execution_count": 61,
   "id": "fef8911b",
   "metadata": {},
   "outputs": [],
   "source": [
    "try:\n",
    "    import pandas as pd\n",
    "    import numpy as np\n",
    "    import os,sys\n",
    "    import re\n",
    "    # importing algorithms\n",
    "    from sklearn.model_selection import train_test_split\n",
    "    from sklearn.linear_model import LogisticRegression\n",
    "    from sklearn.neighbors import KNeighborsClassifier\n",
    "    from sklearn.naive_bayes import GaussianNB\n",
    "    from sklearn.naive_bayes import MultinomialNB\n",
    "    from sklearn.naive_bayes import BernoulliNB\n",
    "    from sklearn import svm\n",
    "    from sklearn.tree import DecisionTreeClassifier\n",
    "    from sklearn.ensemble import RandomForestClassifier\n",
    "except Exception as e:\n",
    "    print(\"Error is due to\",e)\n",
    "pwd = os.getcwd()"
   ]
  },
  {
   "cell_type": "code",
   "execution_count": 2,
   "id": "095401e5",
   "metadata": {},
   "outputs": [
    {
     "data": {
      "text/html": [
       "<div>\n",
       "<style scoped>\n",
       "    .dataframe tbody tr th:only-of-type {\n",
       "        vertical-align: middle;\n",
       "    }\n",
       "\n",
       "    .dataframe tbody tr th {\n",
       "        vertical-align: top;\n",
       "    }\n",
       "\n",
       "    .dataframe thead th {\n",
       "        text-align: right;\n",
       "    }\n",
       "</style>\n",
       "<table border=\"1\" class=\"dataframe\">\n",
       "  <thead>\n",
       "    <tr style=\"text-align: right;\">\n",
       "      <th></th>\n",
       "      <th>kabita_labels</th>\n",
       "    </tr>\n",
       "  </thead>\n",
       "  <tbody>\n",
       "    <tr>\n",
       "      <th>0</th>\n",
       "      <td>7</td>\n",
       "    </tr>\n",
       "    <tr>\n",
       "      <th>1</th>\n",
       "      <td>7</td>\n",
       "    </tr>\n",
       "    <tr>\n",
       "      <th>2</th>\n",
       "      <td>4</td>\n",
       "    </tr>\n",
       "    <tr>\n",
       "      <th>3</th>\n",
       "      <td>2</td>\n",
       "    </tr>\n",
       "    <tr>\n",
       "      <th>4</th>\n",
       "      <td>7</td>\n",
       "    </tr>\n",
       "    <tr>\n",
       "      <th>...</th>\n",
       "      <td>...</td>\n",
       "    </tr>\n",
       "    <tr>\n",
       "      <th>4895</th>\n",
       "      <td>1</td>\n",
       "    </tr>\n",
       "    <tr>\n",
       "      <th>4896</th>\n",
       "      <td>1</td>\n",
       "    </tr>\n",
       "    <tr>\n",
       "      <th>4897</th>\n",
       "      <td>1</td>\n",
       "    </tr>\n",
       "    <tr>\n",
       "      <th>4898</th>\n",
       "      <td>4</td>\n",
       "    </tr>\n",
       "    <tr>\n",
       "      <th>4899</th>\n",
       "      <td>1</td>\n",
       "    </tr>\n",
       "  </tbody>\n",
       "</table>\n",
       "<p>4900 rows × 1 columns</p>\n",
       "</div>"
      ],
      "text/plain": [
       "      kabita_labels\n",
       "0                 7\n",
       "1                 7\n",
       "2                 4\n",
       "3                 2\n",
       "4                 7\n",
       "...             ...\n",
       "4895              1\n",
       "4896              1\n",
       "4897              1\n",
       "4898              4\n",
       "4899              1\n",
       "\n",
       "[4900 rows x 1 columns]"
      ]
     },
     "execution_count": 2,
     "metadata": {},
     "output_type": "execute_result"
    }
   ],
   "source": [
    "# Reading labels\n",
    "labels_df = pd.read_csv(pwd+\"//Datasets//Kabita//Input//kabita_dataset_labels.csv\")\n",
    "labels_df"
   ]
  },
  {
   "cell_type": "markdown",
   "id": "ee0dd4e4",
   "metadata": {},
   "source": [
    "### Modelling on Transformers vectorized data"
   ]
  },
  {
   "cell_type": "markdown",
   "id": "92b51002",
   "metadata": {},
   "source": [
    "### BERT Sentence transformer Base Model"
   ]
  },
  {
   "cell_type": "code",
   "execution_count": 67,
   "id": "a7c7109d",
   "metadata": {},
   "outputs": [
    {
     "name": "stdout",
     "output_type": "stream",
     "text": [
      "Accuracy of KNN model for 3 neighbors is: 0.6755102040816326\n",
      "Accuracy of KNN model for 4 neighbors is: 0.6965986394557823\n",
      "Accuracy of KNN model for 5 neighbors is: 0.6904761904761905\n",
      "Accuracy of KNN model for 6 neighbors is: 0.6918367346938775\n",
      "Accuracy of KNN model for 7 neighbors is: 0.6959183673469388\n",
      "Accuracy of KNN model for 8 neighbors is: 0.6850340136054421\n",
      "Accuracy of KNN model for 70 neighbors is: 0.6231292517006802\n",
      "Accuracy of Logistic Regression is: 0.7843537414965986\n",
      "Accuracy of Gaussian Naive Bayes is: 0.5523809523809524\n",
      "Accuracy of Bernoulli Naive Bayes is: 0.5285714285714286\n",
      "Accuracy of SVM is: 0.7598639455782313\n",
      "Accuracy of Decision Tree with 1 depth is: 0.23673469387755103\n",
      "Accuracy of Decision Tree with 2 depth is: 0.3585034013605442\n",
      "Accuracy of Decision Tree with 3 depth is: 0.4707482993197279\n",
      "Accuracy of Decision Tree with 4 depth is: 0.5360544217687074\n",
      "Accuracy of Decision Tree with 5 depth is: 0.564625850340136\n",
      "Accuracy of Decision Tree with 6 depth is: 0.5857142857142857\n",
      "Accuracy of Decision Tree with 7 depth is: 0.5829931972789115\n",
      "Accuracy of Decision Tree with 8 depth is: 0.5918367346938775\n",
      "Accuracy of Decision Tree with 9 depth is: 0.6054421768707483\n",
      "Accuracy of Decision Tree with 10 depth is: 0.610204081632653\n",
      "Accuracy of Decision Tree with 11 depth is: 0.5993197278911565\n",
      "Accuracy of Decision Tree with 12 depth is: 0.5945578231292517\n",
      "Accuracy of Decision Tree with 13 depth is: 0.5829931972789115\n",
      "Accuracy of Decision Tree with 14 depth is: 0.5755102040816327\n",
      "Accuracy of Decision Tree with 15 depth is: 0.5748299319727891\n",
      "Accuracy of Decision Tree with 16 depth is: 0.5884353741496599\n",
      "Accuracy of Decision Tree with 17 depth is: 0.5748299319727891\n",
      "Accuracy of Decision Tree with 18 depth is: 0.5782312925170068\n",
      "Accuracy of Decision Tree with 19 depth is: 0.5707482993197279\n",
      "Accuracy of Random Forest with 1 depth is: 0.4714285714285714\n",
      "Accuracy of Random Forest with 2 depth is: 0.5346938775510204\n",
      "Accuracy of Random Forest with 3 depth is: 0.5755102040816327\n",
      "Accuracy of Random Forest with 4 depth is: 0.6074829931972789\n",
      "Accuracy of Random Forest with 5 depth is: 0.6612244897959184\n",
      "Accuracy of Random Forest with 6 depth is: 0.6768707482993197\n",
      "Accuracy of Random Forest with 7 depth is: 0.6959183673469388\n",
      "Accuracy of Random Forest with 8 depth is: 0.7034013605442176\n",
      "Accuracy of Random Forest with 9 depth is: 0.7081632653061225\n",
      "Accuracy of Random Forest with 10 depth is: 0.7122448979591837\n",
      "Accuracy of Random Forest with 11 depth is: 0.7108843537414966\n",
      "Accuracy of Random Forest with 12 depth is: 0.7081632653061225\n",
      "Accuracy of Random Forest with 13 depth is: 0.717687074829932\n",
      "Accuracy of Random Forest with 14 depth is: 0.7129251700680272\n",
      "Accuracy of Random Forest with 15 depth is: 0.7210884353741497\n",
      "Accuracy of Random Forest with 16 depth is: 0.717687074829932\n",
      "Accuracy of Random Forest with 17 depth is: 0.7122448979591837\n",
      "Accuracy of Random Forest with 18 depth is: 0.7251700680272108\n",
      "Accuracy of Random Forest with 19 depth is: 0.7149659863945578\n"
     ]
    },
    {
     "data": {
      "text/plain": [
       "'# Multinomial Naive Bayes\\nbert_mnb_model = MultinomialNB()\\nbert_mnb_model.fit(x_train,y_train)\\nbert_mnb_pred_val = bert_mnb_model.predict(x_test)\\nprint(\"Accuracy of Multinomial Naive Bayes is:\", bert_mnb_model.score(x_test,y_test))'"
      ]
     },
     "execution_count": 67,
     "metadata": {},
     "output_type": "execute_result"
    }
   ],
   "source": [
    "# reading dataset\n",
    "bert_df = pd.read_csv(pwd+\"//Datasets//Kabita//SentenceTransformers//bert_vectorized_kabita_dataset.csv\")\n",
    "x_train,x_test,y_train,y_test = train_test_split(bert_df,labels_df['kabita_labels'],test_size=0.30,\n",
    "                                                 random_state=12,stratify=labels_df['kabita_labels'])\n",
    "\n",
    "# KNN\n",
    "# checking the accuracies of neighbors in [3, 4, 5, 6, 7, 8] for KNN\n",
    "neighbors_list = [3, 4, 5, 6, 7, 8]\n",
    "for x in neighbors_list:\n",
    "    bert_knn_model = KNeighborsClassifier(n_neighbors=x)\n",
    "    bert_knn_model.fit(x_train,y_train)\n",
    "    print(\"Accuracy of KNN model for {} neighbors is:\".format(str(x)), \n",
    "          bert_knn_model.score(x_test,y_test))\n",
    "\n",
    "# applying KNN algorithm\n",
    "# taking squareroot(n) as k value. as total rows are 4900, k-value = 70\n",
    "bert_knn_model = KNeighborsClassifier(n_neighbors=70)\n",
    "bert_knn_model.fit(x_train,y_train)\n",
    "bert_knn_pred_val = bert_knn_model.predict(x_test)\n",
    "print(\"Accuracy of KNN model for 70 neighbors is:\", bert_knn_model.score(x_test,y_test))\n",
    "\n",
    "# Logistic Regression\n",
    "bert_lr_model = LogisticRegression(max_iter=2000)\n",
    "bert_lr_model.fit(x_train,y_train)\n",
    "bert_lr_pred_val = bert_lr_model.predict(x_test)\n",
    "print(\"Accuracy of Logistic Regression is:\", bert_lr_model.score(x_test,y_test))\n",
    "\n",
    "# Gaussian Naive Bayes\n",
    "bert_gnb_model = GaussianNB()\n",
    "bert_gnb_model.fit(x_train,y_train)\n",
    "bert_gnb_pred_val = bert_gnb_model.predict(x_test)\n",
    "print(\"Accuracy of Gaussian Naive Bayes is:\", bert_gnb_model.score(x_test,y_test))\n",
    "\n",
    "# Bernoulli Naive Bayes\n",
    "bert_bnb_model = BernoulliNB()\n",
    "bert_bnb_model.fit(x_train,y_train)\n",
    "bert_bnb_pred_val = bert_bnb_model.predict(x_test)\n",
    "print(\"Accuracy of Bernoulli Naive Bayes is:\", bert_bnb_model.score(x_test,y_test))\n",
    "\n",
    "# Support Vector Machine Classifier\n",
    "bert_svm_model = svm.SVC(decision_function_shape='ovo',kernel='linear')\n",
    "bert_svm_model.fit(x_train,y_train)\n",
    "bert_svm_pred_val = bert_svm_model.predict(x_test)\n",
    "print(\"Accuracy of SVM is:\", bert_svm_model.score(x_test,y_test))\n",
    "\n",
    "# Decision Tree Classifier\n",
    "for x in range(1,20):\n",
    "    bert_dt_model = DecisionTreeClassifier(random_state=3, max_depth=x)\n",
    "    bert_dt_model.fit(x_train,y_train)\n",
    "    bert_dt_pred_val = bert_dt_model.predict(x_test)\n",
    "    print(\"Accuracy of Decision Tree with {} depth is:\".format(str(x)), bert_dt_model.score(x_test,y_test))\n",
    "    \n",
    "# Random Forest\n",
    "for x in range(1,20):\n",
    "    bert_rf_model = RandomForestClassifier(max_depth=x, random_state=3)\n",
    "    bert_rf_model.fit(x_train,y_train)\n",
    "    bert_rf_pred_val = bert_rf_model.predict(x_test)\n",
    "    print(\"Accuracy of Random Forest with {} depth is:\".format(str(x)), bert_rf_model.score(x_test,y_test))\n",
    "\n",
    "    \n",
    "\"\"\"# Multinomial Naive Bayes\n",
    "bert_mnb_model = MultinomialNB()\n",
    "bert_mnb_model.fit(x_train,y_train)\n",
    "bert_mnb_pred_val = bert_mnb_model.predict(x_test)\n",
    "print(\"Accuracy of Multinomial Naive Bayes is:\", bert_mnb_model.score(x_test,y_test))\"\"\""
   ]
  },
  {
   "cell_type": "code",
   "execution_count": 66,
   "id": "caae1d0b",
   "metadata": {},
   "outputs": [
    {
     "name": "stdout",
     "output_type": "stream",
     "text": [
      "Accuracy of Random Forest depth is: 0.7183673469387755\n"
     ]
    }
   ],
   "source": [
    "# Random Forest\n",
    "bert_rf_model = RandomForestClassifier(random_state=3)\n",
    "bert_rf_model.fit(x_train,y_train)\n",
    "bert_rf_pred_val = bert_rf_model.predict(x_test)\n",
    "print(\"Accuracy of Random Forest depth is:\", bert_rf_model.score(x_test,y_test))"
   ]
  },
  {
   "cell_type": "markdown",
   "id": "e1697796",
   "metadata": {},
   "source": [
    "### BERT Sentence transformer Ganesh Bert Hinglish"
   ]
  },
  {
   "cell_type": "code",
   "execution_count": 14,
   "id": "1b1804aa",
   "metadata": {},
   "outputs": [
    {
     "name": "stdout",
     "output_type": "stream",
     "text": [
      "Accuracy of KNN model for 3 neighbors is: 0.44421768707482995\n",
      "Accuracy of KNN model for 4 neighbors is: 0.44761904761904764\n",
      "Accuracy of KNN model for 5 neighbors is: 0.4523809523809524\n",
      "Accuracy of KNN model for 6 neighbors is: 0.4666666666666667\n",
      "Accuracy of KNN model for 7 neighbors is: 0.46258503401360546\n",
      "Accuracy of KNN model for 8 neighbors is: 0.46190476190476193\n",
      "Accuracy of KNN model for 70 neighbors is: 0.42653061224489797\n",
      "Accuracy of Logistic Regression is: 0.5421768707482993\n",
      "Accuracy of Gaussian Naive Bayes is: 0.27687074829931974\n"
     ]
    }
   ],
   "source": [
    "# reading dataset\n",
    "bert_df = pd.read_csv(pwd+\"//Datasets//Kabita//SentenceTransformers//bert_vectorized_kabita_dataset_gkb.csv\")\n",
    "x_train,x_test,y_train,y_test = train_test_split(bert_df,labels_df['kabita_labels'],test_size=0.30,\n",
    "                                                 random_state=12,stratify=labels_df['kabita_labels'])\n",
    "\n",
    "# KNN\n",
    "# checking the accuracies of neighbors in [3, 4, 5, 6, 7, 8] for KNN\n",
    "neighbors_list = [3, 4, 5, 6, 7, 8]\n",
    "for x in neighbors_list:\n",
    "    bert_knn_model = KNeighborsClassifier(n_neighbors=x)\n",
    "    bert_knn_model.fit(x_train,y_train)\n",
    "    print(\"Accuracy of KNN model for {} neighbors is:\".format(str(x)), \n",
    "          bert_knn_model.score(x_test,y_test))\n",
    "\n",
    "# applying KNN algorithm\n",
    "# taking squareroot(n) as k value. as total rows are 4900, k-value = 70\n",
    "bert_knn_model = KNeighborsClassifier(n_neighbors=70)\n",
    "bert_knn_model.fit(x_train,y_train)\n",
    "bert_knn_pred_val = bert_knn_model.predict(x_test)\n",
    "print(\"Accuracy of KNN model for 70 neighbors is:\", bert_knn_model.score(x_test,y_test))\n",
    "\n",
    "# Logistic Regression\n",
    "bert_lr_model = LogisticRegression(max_iter=3000)\n",
    "bert_lr_model.fit(x_train,y_train)\n",
    "bert_lr_pred_val = bert_lr_model.predict(x_test)\n",
    "print(\"Accuracy of Logistic Regression is:\", bert_lr_model.score(x_test,y_test))\n",
    "\n",
    "# Gaussian Naive Bayes\n",
    "bert_gnb_model = GaussianNB()\n",
    "bert_gnb_model.fit(x_train,y_train)\n",
    "bert_gnb_pred_val = bert_gnb_model.predict(x_test)\n",
    "print(\"Accuracy of Gaussian Naive Bayes is:\", bert_gnb_model.score(x_test,y_test))"
   ]
  },
  {
   "cell_type": "markdown",
   "id": "92f34550",
   "metadata": {},
   "source": [
    "### BERT Sentence transformer Narasimha distilbert Hinglish"
   ]
  },
  {
   "cell_type": "code",
   "execution_count": 5,
   "id": "8dfc0958",
   "metadata": {},
   "outputs": [
    {
     "name": "stdout",
     "output_type": "stream",
     "text": [
      "Accuracy of KNN model for 3 neighbors is: 0.6510204081632653\n",
      "Accuracy of KNN model for 4 neighbors is: 0.6632653061224489\n",
      "Accuracy of KNN model for 5 neighbors is: 0.6619047619047619\n",
      "Accuracy of KNN model for 6 neighbors is: 0.6714285714285714\n",
      "Accuracy of KNN model for 7 neighbors is: 0.6707482993197279\n",
      "Accuracy of KNN model for 8 neighbors is: 0.6625850340136055\n",
      "Accuracy of KNN model for 70 neighbors is: 0.6006802721088436\n",
      "Accuracy of Logistic Regression is: 0.7571428571428571\n",
      "Accuracy of Gaussian Naive Bayes is: 0.5360544217687074\n"
     ]
    }
   ],
   "source": [
    "# reading dataset\n",
    "bert_df = pd.read_csv(pwd+\"//Datasets//Kabita//SentenceTransformers//bert_vectorized_kabita_dataset_ndisbert.csv\")\n",
    "x_train,x_test,y_train,y_test = train_test_split(bert_df,labels_df['kabita_labels'],test_size=0.30,\n",
    "                                                 random_state=12,stratify=labels_df['kabita_labels'])\n",
    "\n",
    "# KNN\n",
    "# checking the accuracies of neighbors in [3, 4, 5, 6, 7, 8] for KNN\n",
    "neighbors_list = [3, 4, 5, 6, 7, 8]\n",
    "for x in neighbors_list:\n",
    "    bert_knn_model = KNeighborsClassifier(n_neighbors=x)\n",
    "    bert_knn_model.fit(x_train,y_train)\n",
    "    print(\"Accuracy of KNN model for {} neighbors is:\".format(str(x)), \n",
    "          bert_knn_model.score(x_test,y_test))\n",
    "\n",
    "# applying KNN algorithm\n",
    "# taking squareroot(n) as k value. as total rows are 4900, k-value = 70\n",
    "bert_knn_model = KNeighborsClassifier(n_neighbors=70)\n",
    "bert_knn_model.fit(x_train,y_train)\n",
    "bert_knn_pred_val = bert_knn_model.predict(x_test)\n",
    "print(\"Accuracy of KNN model for 70 neighbors is:\", bert_knn_model.score(x_test,y_test))\n",
    "\n",
    "# Logistic Regression\n",
    "bert_lr_model = LogisticRegression(max_iter=2000)\n",
    "bert_lr_model.fit(x_train,y_train)\n",
    "bert_lr_pred_val = bert_lr_model.predict(x_test)\n",
    "print(\"Accuracy of Logistic Regression is:\", bert_lr_model.score(x_test,y_test))\n",
    "\n",
    "# Gaussian Naive Bayes\n",
    "bert_gnb_model = GaussianNB()\n",
    "bert_gnb_model.fit(x_train,y_train)\n",
    "bert_gnb_pred_val = bert_gnb_model.predict(x_test)\n",
    "print(\"Accuracy of Gaussian Naive Bayes is:\", bert_gnb_model.score(x_test,y_test))"
   ]
  },
  {
   "cell_type": "markdown",
   "id": "39245fed",
   "metadata": {},
   "source": [
    "### BERT Sentence transformer verloop bert hinglish"
   ]
  },
  {
   "cell_type": "code",
   "execution_count": 6,
   "id": "659d7a0d",
   "metadata": {},
   "outputs": [
    {
     "name": "stdout",
     "output_type": "stream",
     "text": [
      "Accuracy of KNN model for 3 neighbors is: 0.6612244897959184\n",
      "Accuracy of KNN model for 4 neighbors is: 0.6700680272108843\n",
      "Accuracy of KNN model for 5 neighbors is: 0.6857142857142857\n",
      "Accuracy of KNN model for 6 neighbors is: 0.689795918367347\n",
      "Accuracy of KNN model for 7 neighbors is: 0.6891156462585034\n",
      "Accuracy of KNN model for 8 neighbors is: 0.6857142857142857\n",
      "Accuracy of KNN model for 70 neighbors is: 0.6374149659863946\n",
      "Accuracy of Logistic Regression is: 0.7918367346938775\n",
      "Accuracy of Gaussian Naive Bayes is: 0.5850340136054422\n"
     ]
    }
   ],
   "source": [
    "# reading dataset\n",
    "bert_df = pd.read_csv(pwd+\"//Datasets//Kabita//SentenceTransformers//bert_vectorized_kabita_dataset_vbert.csv\")\n",
    "x_train,x_test,y_train,y_test = train_test_split(bert_df,labels_df['kabita_labels'],test_size=0.30,\n",
    "                                                 random_state=12,stratify=labels_df['kabita_labels'])\n",
    "\n",
    "# KNN\n",
    "# checking the accuracies of neighbors in [3, 4, 5, 6, 7, 8] for KNN\n",
    "neighbors_list = [3, 4, 5, 6, 7, 8]\n",
    "for x in neighbors_list:\n",
    "    bert_knn_model = KNeighborsClassifier(n_neighbors=x)\n",
    "    bert_knn_model.fit(x_train,y_train)\n",
    "    print(\"Accuracy of KNN model for {} neighbors is:\".format(str(x)), \n",
    "          bert_knn_model.score(x_test,y_test))\n",
    "\n",
    "# applying KNN algorithm\n",
    "# taking squareroot(n) as k value. as total rows are 4900, k-value = 70\n",
    "bert_knn_model = KNeighborsClassifier(n_neighbors=70)\n",
    "bert_knn_model.fit(x_train,y_train)\n",
    "bert_knn_pred_val = bert_knn_model.predict(x_test)\n",
    "print(\"Accuracy of KNN model for 70 neighbors is:\", bert_knn_model.score(x_test,y_test))\n",
    "\n",
    "# Logistic Regression\n",
    "bert_lr_model = LogisticRegression(max_iter=2000)\n",
    "bert_lr_model.fit(x_train,y_train)\n",
    "bert_lr_pred_val = bert_lr_model.predict(x_test)\n",
    "print(\"Accuracy of Logistic Regression is:\", bert_lr_model.score(x_test,y_test))\n",
    "\n",
    "# Gaussian Naive Bayes\n",
    "bert_gnb_model = GaussianNB()\n",
    "bert_gnb_model.fit(x_train,y_train)\n",
    "bert_gnb_pred_val = bert_gnb_model.predict(x_test)\n",
    "print(\"Accuracy of Gaussian Naive Bayes is:\", bert_gnb_model.score(x_test,y_test))"
   ]
  },
  {
   "cell_type": "markdown",
   "id": "7d0d19e2",
   "metadata": {},
   "source": [
    "### BERT Fine tuned transformer Base Model"
   ]
  },
  {
   "cell_type": "code",
   "execution_count": 7,
   "id": "911bf14e",
   "metadata": {},
   "outputs": [
    {
     "name": "stdout",
     "output_type": "stream",
     "text": [
      "Accuracy of KNN model for 3 neighbors is: 0.5394557823129251\n",
      "Accuracy of KNN model for 4 neighbors is: 0.5489795918367347\n",
      "Accuracy of KNN model for 5 neighbors is: 0.5482993197278911\n",
      "Accuracy of KNN model for 6 neighbors is: 0.5707482993197279\n",
      "Accuracy of KNN model for 7 neighbors is: 0.563265306122449\n",
      "Accuracy of KNN model for 8 neighbors is: 0.563265306122449\n",
      "Accuracy of KNN model for 70 neighbors is: 0.5081632653061224\n",
      "Accuracy of Logistic Regression is: 0.6877551020408164\n",
      "Accuracy of Gaussian Naive Bayes is: 0.4530612244897959\n"
     ]
    }
   ],
   "source": [
    "# reading dataset\n",
    "bert_df = pd.read_csv(pwd+\"//Datasets//Kabita//FineTunedTransformers//bert_base_finetuned_vectorized_kabita_dataset.csv\")\n",
    "x_train,x_test,y_train,y_test = train_test_split(bert_df,labels_df['kabita_labels'],test_size=0.30,\n",
    "                                                 random_state=12,stratify=labels_df['kabita_labels'])\n",
    "\n",
    "# KNN\n",
    "# checking the accuracies of neighbors in [3, 4, 5, 6, 7, 8] for KNN\n",
    "neighbors_list = [3, 4, 5, 6, 7, 8]\n",
    "for x in neighbors_list:\n",
    "    bert_knn_model = KNeighborsClassifier(n_neighbors=x)\n",
    "    bert_knn_model.fit(x_train,y_train)\n",
    "    print(\"Accuracy of KNN model for {} neighbors is:\".format(str(x)), \n",
    "          bert_knn_model.score(x_test,y_test))\n",
    "\n",
    "# applying KNN algorithm\n",
    "# taking squareroot(n) as k value. as total rows are 4900, k-value = 70\n",
    "bert_knn_model = KNeighborsClassifier(n_neighbors=70)\n",
    "bert_knn_model.fit(x_train,y_train)\n",
    "bert_knn_pred_val = bert_knn_model.predict(x_test)\n",
    "print(\"Accuracy of KNN model for 70 neighbors is:\", bert_knn_model.score(x_test,y_test))\n",
    "\n",
    "# Logistic Regression\n",
    "bert_lr_model = LogisticRegression(max_iter=2000)\n",
    "bert_lr_model.fit(x_train,y_train)\n",
    "bert_lr_pred_val = bert_lr_model.predict(x_test)\n",
    "print(\"Accuracy of Logistic Regression is:\", bert_lr_model.score(x_test,y_test))\n",
    "\n",
    "# Gaussian Naive Bayes\n",
    "bert_gnb_model = GaussianNB()\n",
    "bert_gnb_model.fit(x_train,y_train)\n",
    "bert_gnb_pred_val = bert_gnb_model.predict(x_test)\n",
    "print(\"Accuracy of Gaussian Naive Bayes is:\", bert_gnb_model.score(x_test,y_test))"
   ]
  },
  {
   "cell_type": "markdown",
   "id": "cac9d8e6",
   "metadata": {},
   "source": [
    "### BERT Fine tuned transformer Hinglish Model"
   ]
  },
  {
   "cell_type": "code",
   "execution_count": 17,
   "id": "9bc3db1e",
   "metadata": {},
   "outputs": [
    {
     "name": "stdout",
     "output_type": "stream",
     "text": [
      "Accuracy of KNN model for 3 neighbors is: 0.41156462585034015\n",
      "Accuracy of KNN model for 4 neighbors is: 0.42925170068027213\n",
      "Accuracy of KNN model for 5 neighbors is: 0.44421768707482995\n",
      "Accuracy of KNN model for 6 neighbors is: 0.4414965986394558\n",
      "Accuracy of KNN model for 7 neighbors is: 0.4448979591836735\n",
      "Accuracy of KNN model for 8 neighbors is: 0.4448979591836735\n",
      "Accuracy of KNN model for 70 neighbors is: 0.41020408163265304\n",
      "Accuracy of Logistic Regression is: 0.5503401360544218\n",
      "Accuracy of Gaussian Naive Bayes is: 0.2870748299319728\n"
     ]
    }
   ],
   "source": [
    "# reading dataset\n",
    "bert_df = pd.read_csv(pwd+\"//Datasets//Kabita//FineTunedTransformers//bert_hinglish_finetuned_vectorized_kabita_dataset.csv\")\n",
    "x_train,x_test,y_train,y_test = train_test_split(bert_df,labels_df['kabita_labels'],test_size=0.30,\n",
    "                                                 random_state=12,stratify=labels_df['kabita_labels'])\n",
    "\n",
    "# KNN\n",
    "# checking the accuracies of neighbors in [3, 4, 5, 6, 7, 8] for KNN\n",
    "neighbors_list = [3, 4, 5, 6, 7, 8]\n",
    "for x in neighbors_list:\n",
    "    bert_knn_model = KNeighborsClassifier(n_neighbors=x)\n",
    "    bert_knn_model.fit(x_train,y_train)\n",
    "    print(\"Accuracy of KNN model for {} neighbors is:\".format(str(x)), \n",
    "          bert_knn_model.score(x_test,y_test))\n",
    "\n",
    "# applying KNN algorithm\n",
    "# taking squareroot(n) as k value. as total rows are 4900, k-value = 70\n",
    "bert_knn_model = KNeighborsClassifier(n_neighbors=70)\n",
    "bert_knn_model.fit(x_train,y_train)\n",
    "bert_knn_pred_val = bert_knn_model.predict(x_test)\n",
    "print(\"Accuracy of KNN model for 70 neighbors is:\", bert_knn_model.score(x_test,y_test))\n",
    "\n",
    "# Logistic Regression\n",
    "bert_lr_model = LogisticRegression(max_iter=4000)\n",
    "bert_lr_model.fit(x_train,y_train)\n",
    "bert_lr_pred_val = bert_lr_model.predict(x_test)\n",
    "print(\"Accuracy of Logistic Regression is:\", bert_lr_model.score(x_test,y_test))\n",
    "\n",
    "# Gaussian Naive Bayes\n",
    "bert_gnb_model = GaussianNB()\n",
    "bert_gnb_model.fit(x_train,y_train)\n",
    "bert_gnb_pred_val = bert_gnb_model.predict(x_test)\n",
    "print(\"Accuracy of Gaussian Naive Bayes is:\", bert_gnb_model.score(x_test,y_test))"
   ]
  },
  {
   "cell_type": "markdown",
   "id": "773d719c",
   "metadata": {},
   "source": [
    "### GPT2 Sentence Transformer"
   ]
  },
  {
   "cell_type": "code",
   "execution_count": 18,
   "id": "75d88f52",
   "metadata": {},
   "outputs": [
    {
     "name": "stdout",
     "output_type": "stream",
     "text": [
      "Accuracy of KNN model for 3 neighbors is: 0.6469387755102041\n",
      "Accuracy of KNN model for 4 neighbors is: 0.6605442176870748\n",
      "Accuracy of KNN model for 5 neighbors is: 0.6557823129251701\n",
      "Accuracy of KNN model for 6 neighbors is: 0.6619047619047619\n",
      "Accuracy of KNN model for 7 neighbors is: 0.6639455782312925\n",
      "Accuracy of KNN model for 8 neighbors is: 0.6605442176870748\n",
      "Accuracy of KNN model for 70 neighbors is: 0.6027210884353742\n",
      "Accuracy of Logistic Regression is: 0.753061224489796\n",
      "Accuracy of Gaussian Naive Bayes is: 0.5598639455782313\n"
     ]
    }
   ],
   "source": [
    "# reading dataset\n",
    "gpt_df = pd.read_csv(pwd+\"//Datasets//Kabita//SentenceTransformers//gpt_vectorized_kabita_dataset.csv\")\n",
    "\n",
    "x_train,x_test,y_train,y_test = train_test_split(gpt_df,labels_df['kabita_labels'],test_size=0.30,\n",
    "                                                 random_state=13,stratify=labels_df['kabita_labels'])\n",
    "\n",
    "# KNN\n",
    "# checking the accuracies of neighbors in [3, 4, 5, 6, 7, 8] for KNN\n",
    "neighbors_list = [3, 4, 5, 6, 7, 8]\n",
    "for x in neighbors_list:\n",
    "    gpt_knn_model = KNeighborsClassifier(n_neighbors=x)\n",
    "    gpt_knn_model.fit(x_train,y_train)\n",
    "    print(\"Accuracy of KNN model for {} neighbors is:\".format(str(x)), \n",
    "          gpt_knn_model.score(x_test,y_test))\n",
    "    \n",
    "# applying KNN algorithm\n",
    "# taking squareroot(n) as k value. as total rows are 4900, k-value = 70\n",
    "gpt_knn_model = KNeighborsClassifier(n_neighbors=70)\n",
    "gpt_knn_model.fit(x_train,y_train)\n",
    "gpt_knn_pred_val = gpt_knn_model.predict(x_test)\n",
    "print(\"Accuracy of KNN model for 70 neighbors is:\", gpt_knn_model.score(x_test,y_test))\n",
    "\n",
    "# Logistic Regression\n",
    "gpt_lr_model = LogisticRegression(max_iter=3000)\n",
    "gpt_lr_model.fit(x_train,y_train)\n",
    "gpt_lr_pred_val = gpt_lr_model.predict(x_test)\n",
    "print(\"Accuracy of Logistic Regression is:\", gpt_lr_model.score(x_test,y_test))\n",
    "\n",
    "# Gaussian Naive Bayes\n",
    "gpt_gnb_model = GaussianNB()\n",
    "gpt_gnb_model.fit(x_train,y_train)\n",
    "gpt_gnb_pred_val = gpt_gnb_model.predict(x_test)\n",
    "print(\"Accuracy of Gaussian Naive Bayes is:\", gpt_gnb_model.score(x_test,y_test))"
   ]
  },
  {
   "cell_type": "markdown",
   "id": "c45aa396",
   "metadata": {},
   "source": [
    "### GPT2 Fine tuned transformer Base model"
   ]
  },
  {
   "cell_type": "code",
   "execution_count": 25,
   "id": "d9b9397f",
   "metadata": {},
   "outputs": [
    {
     "name": "stdout",
     "output_type": "stream",
     "text": [
      "Accuracy of KNN model for 3 neighbors is: 0.46802721088435373\n",
      "Accuracy of KNN model for 4 neighbors is: 0.47619047619047616\n",
      "Accuracy of KNN model for 5 neighbors is: 0.4775510204081633\n",
      "Accuracy of KNN model for 6 neighbors is: 0.48299319727891155\n",
      "Accuracy of KNN model for 7 neighbors is: 0.47687074829931975\n",
      "Accuracy of KNN model for 8 neighbors is: 0.4707482993197279\n",
      "Accuracy of KNN model for 70 neighbors is: 0.4163265306122449\n",
      "Accuracy of Logistic Regression is: 0.7666666666666667\n",
      "Accuracy of Gaussian Naive Bayes is: 0.5374149659863946\n"
     ]
    }
   ],
   "source": [
    "# reading dataset\n",
    "gpt_df = pd.read_csv(pwd+\"//Datasets//Kabita//FineTunedTransformers//gpt_base_finetuned_vectorized_kabita_dataset.csv\")\n",
    "\n",
    "x_train,x_test,y_train,y_test = train_test_split(gpt_df,labels_df['kabita_labels'],test_size=0.30,\n",
    "                                                 random_state=13,stratify=labels_df['kabita_labels'])\n",
    "\n",
    "# KNN\n",
    "# checking the accuracies of neighbors in [3, 4, 5, 6, 7, 8] for KNN\n",
    "neighbors_list = [3, 4, 5, 6, 7, 8]\n",
    "for x in neighbors_list:\n",
    "    gpt_knn_model = KNeighborsClassifier(n_neighbors=x)\n",
    "    gpt_knn_model.fit(x_train,y_train)\n",
    "    print(\"Accuracy of KNN model for {} neighbors is:\".format(str(x)), \n",
    "          gpt_knn_model.score(x_test,y_test))\n",
    "    \n",
    "# applying KNN algorithm\n",
    "# taking squareroot(n) as k value. as total rows are 4900, k-value = 70\n",
    "gpt_knn_model = KNeighborsClassifier(n_neighbors=70)\n",
    "gpt_knn_model.fit(x_train,y_train)\n",
    "gpt_knn_pred_val = gpt_knn_model.predict(x_test)\n",
    "print(\"Accuracy of KNN model for 70 neighbors is:\", gpt_knn_model.score(x_test,y_test))\n",
    "\n",
    "# Logistic Regression\n",
    "gpt_lr_model = LogisticRegression(max_iter=15000)\n",
    "gpt_lr_model.fit(x_train,y_train)\n",
    "gpt_lr_pred_val = gpt_lr_model.predict(x_test)\n",
    "print(\"Accuracy of Logistic Regression is:\", gpt_lr_model.score(x_test,y_test))\n",
    "\n",
    "# Gaussian Naive Bayes\n",
    "gpt_gnb_model = GaussianNB()\n",
    "gpt_gnb_model.fit(x_train,y_train)\n",
    "gpt_gnb_pred_val = gpt_gnb_model.predict(x_test)\n",
    "print(\"Accuracy of Gaussian Naive Bayes is:\", gpt_gnb_model.score(x_test,y_test))"
   ]
  },
  {
   "cell_type": "markdown",
   "id": "bfa20ebd",
   "metadata": {},
   "source": [
    "### GPT2 Fine tuned transformer Hinglish model"
   ]
  },
  {
   "cell_type": "code",
   "execution_count": 27,
   "id": "d047ba84",
   "metadata": {},
   "outputs": [
    {
     "name": "stdout",
     "output_type": "stream",
     "text": [
      "Accuracy of KNN model for 3 neighbors is: 0.45714285714285713\n",
      "Accuracy of KNN model for 4 neighbors is: 0.45782312925170066\n",
      "Accuracy of KNN model for 5 neighbors is: 0.47278911564625853\n",
      "Accuracy of KNN model for 6 neighbors is: 0.4666666666666667\n",
      "Accuracy of KNN model for 7 neighbors is: 0.46462585034013604\n",
      "Accuracy of KNN model for 8 neighbors is: 0.46258503401360546\n",
      "Accuracy of KNN model for 70 neighbors is: 0.4061224489795918\n",
      "Accuracy of Logistic Regression is: 0.782312925170068\n",
      "Accuracy of Gaussian Naive Bayes is: 0.527891156462585\n"
     ]
    }
   ],
   "source": [
    "# reading dataset\n",
    "gpt_df = pd.read_csv(pwd+\"//Datasets//Kabita//FineTunedTransformers//gpt_hinglish_finetuned_vectorized_kabita_dataset.csv\")\n",
    "\n",
    "x_train,x_test,y_train,y_test = train_test_split(gpt_df,labels_df['kabita_labels'],test_size=0.30,\n",
    "                                                 random_state=13,stratify=labels_df['kabita_labels'])\n",
    "\n",
    "# KNN\n",
    "# checking the accuracies of neighbors in [3, 4, 5, 6, 7, 8] for KNN\n",
    "neighbors_list = [3, 4, 5, 6, 7, 8]\n",
    "for x in neighbors_list:\n",
    "    gpt_knn_model = KNeighborsClassifier(n_neighbors=x)\n",
    "    gpt_knn_model.fit(x_train,y_train)\n",
    "    print(\"Accuracy of KNN model for {} neighbors is:\".format(str(x)), \n",
    "          gpt_knn_model.score(x_test,y_test))\n",
    "    \n",
    "# applying KNN algorithm\n",
    "# taking squareroot(n) as k value. as total rows are 4900, k-value = 70\n",
    "gpt_knn_model = KNeighborsClassifier(n_neighbors=70)\n",
    "gpt_knn_model.fit(x_train,y_train)\n",
    "gpt_knn_pred_val = gpt_knn_model.predict(x_test)\n",
    "print(\"Accuracy of KNN model for 70 neighbors is:\", gpt_knn_model.score(x_test,y_test))\n",
    "\n",
    "# Logistic Regression\n",
    "gpt_lr_model = LogisticRegression(max_iter=10000)\n",
    "gpt_lr_model.fit(x_train,y_train)\n",
    "gpt_lr_pred_val = gpt_lr_model.predict(x_test)\n",
    "print(\"Accuracy of Logistic Regression is:\", gpt_lr_model.score(x_test,y_test))\n",
    "\n",
    "# Gaussian Naive Bayes\n",
    "gpt_gnb_model = GaussianNB()\n",
    "gpt_gnb_model.fit(x_train,y_train)\n",
    "gpt_gnb_pred_val = gpt_gnb_model.predict(x_test)\n",
    "print(\"Accuracy of Gaussian Naive Bayes is:\", gpt_gnb_model.score(x_test,y_test))"
   ]
  },
  {
   "cell_type": "markdown",
   "id": "d77b13eb",
   "metadata": {},
   "source": [
    "### XLM Sentence Transformer"
   ]
  },
  {
   "cell_type": "code",
   "execution_count": 12,
   "id": "2fcec634",
   "metadata": {},
   "outputs": [
    {
     "name": "stdout",
     "output_type": "stream",
     "text": [
      "Accuracy of KNN model for 3 neighbors is: 0.6632653061224489\n",
      "Accuracy of KNN model for 4 neighbors is: 0.6625850340136055\n",
      "Accuracy of KNN model for 5 neighbors is: 0.6673469387755102\n",
      "Accuracy of KNN model for 6 neighbors is: 0.6619047619047619\n",
      "Accuracy of KNN model for 7 neighbors is: 0.6775510204081633\n",
      "Accuracy of KNN model for 8 neighbors is: 0.6551020408163265\n",
      "Accuracy of KNN model for 70 neighbors is: 0.6034013605442177\n",
      "Accuracy of Logistic Regression is: 0.763265306122449\n",
      "Accuracy of Gaussian Naive Bayes is: 0.6040816326530613\n"
     ]
    }
   ],
   "source": [
    "# reading dataset\n",
    "xlm_df = pd.read_csv(pwd+\"//Datasets//Kabita//SentenceTransformers//xlm_vectorized_kabita_dataset.csv\")\n",
    "\n",
    "x_train,x_test,y_train,y_test = train_test_split(xlm_df,labels_df['kabita_labels'],test_size=0.30,\n",
    "                                                 random_state=13,stratify=labels_df['kabita_labels'])\n",
    "\n",
    "# KNN\n",
    "# checking the accuracies of neighbors in [3, 4, 5, 6, 7, 8] for KNN\n",
    "neighbors_list = [3, 4, 5, 6, 7, 8]\n",
    "for x in neighbors_list:\n",
    "    xlm_knn_model = KNeighborsClassifier(n_neighbors=x)\n",
    "    xlm_knn_model.fit(x_train,y_train)\n",
    "    print(\"Accuracy of KNN model for {} neighbors is:\".format(str(x)), \n",
    "          xlm_knn_model.score(x_test,y_test))\n",
    "\n",
    "# applying KNN algorithm\n",
    "# taking squareroot(n) as k value. as total rows are 4900, k-value = 70\n",
    "xlm_knn_model = KNeighborsClassifier(n_neighbors=70)\n",
    "xlm_knn_model.fit(x_train,y_train)\n",
    "xlm_knn_pred_val = xlm_knn_model.predict(x_test)\n",
    "print(\"Accuracy of KNN model for 70 neighbors is:\", xlm_knn_model.score(x_test,y_test))\n",
    "\n",
    "# Logistic Regression\n",
    "xlm_lr_model = LogisticRegression(max_iter=2000)\n",
    "xlm_lr_model.fit(x_train,y_train)\n",
    "xlm_lr_pred_val = xlm_lr_model.predict(x_test)\n",
    "print(\"Accuracy of Logistic Regression is:\", xlm_lr_model.score(x_test,y_test))\n",
    "\n",
    "# Gaussian Naive Bayes\n",
    "xlm_gnb_model = GaussianNB()\n",
    "xlm_gnb_model.fit(x_train,y_train)\n",
    "xlm_gnb_pred_val = xlm_gnb_model.predict(x_test)\n",
    "print(\"Accuracy of Gaussian Naive Bayes is:\", xlm_gnb_model.score(x_test,y_test))"
   ]
  },
  {
   "cell_type": "markdown",
   "id": "550a5bc0",
   "metadata": {},
   "source": [
    "### XLM Fine tuned transformer Base model"
   ]
  },
  {
   "cell_type": "code",
   "execution_count": 29,
   "id": "2a2b1fe0",
   "metadata": {},
   "outputs": [
    {
     "name": "stdout",
     "output_type": "stream",
     "text": [
      "Accuracy of KNN model for 3 neighbors is: 0.445578231292517\n",
      "Accuracy of KNN model for 4 neighbors is: 0.45170068027210886\n",
      "Accuracy of KNN model for 5 neighbors is: 0.46122448979591835\n",
      "Accuracy of KNN model for 6 neighbors is: 0.44625850340136053\n",
      "Accuracy of KNN model for 7 neighbors is: 0.45374149659863944\n",
      "Accuracy of KNN model for 8 neighbors is: 0.4530612244897959\n",
      "Accuracy of KNN model for 70 neighbors is: 0.41836734693877553\n",
      "Accuracy of Logistic Regression is: 0.5081632653061224\n",
      "Accuracy of Gaussian Naive Bayes is: 0.4197278911564626\n"
     ]
    }
   ],
   "source": [
    "# reading dataset\n",
    "xlm_df = pd.read_csv(pwd+\"//Datasets//Kabita//FineTunedTransformers//xlm_base_finetuned_vectorized_kabita_dataset.csv\")\n",
    "\n",
    "x_train,x_test,y_train,y_test = train_test_split(xlm_df,labels_df['kabita_labels'],test_size=0.30,\n",
    "                                                 random_state=13,stratify=labels_df['kabita_labels'])\n",
    "\n",
    "# KNN\n",
    "# checking the accuracies of neighbors in [3, 4, 5, 6, 7, 8] for KNN\n",
    "neighbors_list = [3, 4, 5, 6, 7, 8]\n",
    "for x in neighbors_list:\n",
    "    xlm_knn_model = KNeighborsClassifier(n_neighbors=x)\n",
    "    xlm_knn_model.fit(x_train,y_train)\n",
    "    print(\"Accuracy of KNN model for {} neighbors is:\".format(str(x)), \n",
    "          xlm_knn_model.score(x_test,y_test))\n",
    "\n",
    "# applying KNN algorithm\n",
    "# taking squareroot(n) as k value. as total rows are 4900, k-value = 70\n",
    "xlm_knn_model = KNeighborsClassifier(n_neighbors=70)\n",
    "xlm_knn_model.fit(x_train,y_train)\n",
    "xlm_knn_pred_val = xlm_knn_model.predict(x_test)\n",
    "print(\"Accuracy of KNN model for 70 neighbors is:\", xlm_knn_model.score(x_test,y_test))\n",
    "\n",
    "# Logistic Regression\n",
    "xlm_lr_model = LogisticRegression(max_iter=7000)\n",
    "xlm_lr_model.fit(x_train,y_train)\n",
    "xlm_lr_pred_val = xlm_lr_model.predict(x_test)\n",
    "print(\"Accuracy of Logistic Regression is:\", xlm_lr_model.score(x_test,y_test))\n",
    "\n",
    "# Gaussian Naive Bayes\n",
    "xlm_gnb_model = GaussianNB()\n",
    "xlm_gnb_model.fit(x_train,y_train)\n",
    "xlm_gnb_pred_val = xlm_gnb_model.predict(x_test)\n",
    "print(\"Accuracy of Gaussian Naive Bayes is:\", xlm_gnb_model.score(x_test,y_test))"
   ]
  },
  {
   "cell_type": "code",
   "execution_count": null,
   "id": "5080952c",
   "metadata": {},
   "outputs": [],
   "source": []
  }
 ],
 "metadata": {
  "kernelspec": {
   "display_name": "Python 3 (ipykernel)",
   "language": "python",
   "name": "python3"
  },
  "language_info": {
   "codemirror_mode": {
    "name": "ipython",
    "version": 3
   },
   "file_extension": ".py",
   "mimetype": "text/x-python",
   "name": "python",
   "nbconvert_exporter": "python",
   "pygments_lexer": "ipython3",
   "version": "3.9.7"
  }
 },
 "nbformat": 4,
 "nbformat_minor": 5
}
