{
 "cells": [
  {
   "cell_type": "code",
   "execution_count": 1,
   "id": "026fb0b3",
   "metadata": {},
   "outputs": [],
   "source": [
    "# Importing Libraries\n",
    "try:\n",
    "    import pandas as pd\n",
    "    import numpy as np\n",
    "    import os,sys\n",
    "    import re\n",
    "    import matplotlib.pyplot as plt\n",
    "    # importing algorithms\n",
    "    from sklearn.model_selection import train_test_split\n",
    "    from sklearn.linear_model import LogisticRegression\n",
    "    from sklearn.model_selection import KFold, cross_val_score\n",
    "    from sklearn import svm\n",
    "    from sklearn.metrics import confusion_matrix, classification_report\n",
    "    from sklearn.preprocessing import StandardScaler, Normalizer\n",
    "except Exception as e:\n",
    "    print(\"Error is due to\",e)\n",
    "pwd = os.getcwd()\n",
    "labels_df = pd.read_csv(pwd+\"//Datasets//Nisha//Input//Nisha_dataset_labels.csv\")\n",
    "y_df = labels_df['Labels']"
   ]
  },
  {
   "cell_type": "markdown",
   "id": "d2ff8f83",
   "metadata": {},
   "source": [
    "### Hypothesis test of Standard Scaled XLM Base (Sentence Transformer) Logistic and SVM Models"
   ]
  },
  {
   "cell_type": "code",
   "execution_count": 2,
   "id": "c4b95ecf",
   "metadata": {},
   "outputs": [],
   "source": [
    "# XLM Base vectorized data\n",
    "x_df = pd.read_csv(pwd+\"//Datasets//Nisha//SentenceTransformers//xlm_vectorized_Nisha_dataset.csv\")\n",
    "\n",
    "# Total data transform\n",
    "standard_model = StandardScaler()\n",
    "scaled_data = standard_model.fit_transform(x_df)\n",
    "\n",
    "# Test train split\n",
    "x_train,x_test,y_train,y_test = train_test_split(x_df, y_df, test_size=0.30,random_state=21,stratify=y_df)\n",
    "\n",
    "# Standard scaling of train data\n",
    "standard_model = StandardScaler()\n",
    "sscaled_data_train = standard_model.fit_transform(x_train)\n",
    "# Standard scaling of test data\n",
    "sscaled_data_test = standard_model.fit_transform(x_test)"
   ]
  },
  {
   "cell_type": "code",
   "execution_count": 3,
   "id": "2c85d05c",
   "metadata": {},
   "outputs": [
    {
     "name": "stdout",
     "output_type": "stream",
     "text": [
      "SVM Model Accuracy is: 0.7755102040816326\n"
     ]
    }
   ],
   "source": [
    "# SVM Model\n",
    "\n",
    "# Modelling according to the hyper parameters\n",
    "\n",
    "svm_model = svm.SVC(kernel='rbf')\n",
    "\n",
    "svm_model.fit(sscaled_data_train, y_train)\n",
    "\n",
    "print(\"SVM Model Accuracy is:\", svm_model.score(sscaled_data_test, y_test))"
   ]
  },
  {
   "cell_type": "code",
   "execution_count": 4,
   "id": "70dd8ac4",
   "metadata": {},
   "outputs": [
    {
     "name": "stdout",
     "output_type": "stream",
     "text": [
      "Logistic Regression Model Accuracy is: 0.7476190476190476\n"
     ]
    }
   ],
   "source": [
    "# Logistic Regression\n",
    "\n",
    "lr_model = LogisticRegression(max_iter=3000)\n",
    "\n",
    "lr_model.fit(sscaled_data_train, y_train)\n",
    "\n",
    "print(\"Logistic Regression Model Accuracy is:\", lr_model.score(sscaled_data_test, y_test))"
   ]
  },
  {
   "cell_type": "code",
   "execution_count": 5,
   "id": "cde61270",
   "metadata": {},
   "outputs": [
    {
     "name": "stdout",
     "output_type": "stream",
     "text": [
      "H0: There is no difference between the Two models.\n",
      "H1: One Model is best than other.\n",
      "t statistic: 2.990\n",
      "aplha  0.05\n",
      "p value: 0.030\n",
      "Reject null hypotesis\n"
     ]
    }
   ],
   "source": [
    "from mlxtend.evaluate import paired_ttest_5x2cv\n",
    "\n",
    "t, p = paired_ttest_5x2cv(estimator1=svm_model,estimator2=lr_model,X=scaled_data, y=y_df)\n",
    "alpha = 0.05\n",
    "\n",
    "print(\"H0: There is no difference between the Two models.\\nH1: One Model is best than other.\")\n",
    "\n",
    "print('t statistic: %.3f' % t)\n",
    "print('aplha ', alpha)\n",
    "print('p value: %.3f' % p)\n",
    "\n",
    "if p > alpha:\n",
    "    print(\"Fail to reject null hypotesis\")\n",
    "else:\n",
    "    print(\"Reject null hypotesis\")"
   ]
  },
  {
   "cell_type": "code",
   "execution_count": 6,
   "id": "e93577f0",
   "metadata": {},
   "outputs": [
    {
     "name": "stdout",
     "output_type": "stream",
     "text": [
      "SVM Accuracy: 74.20408163265306\n",
      "Logistic Regression Accuracy: 70.08163265306123\n"
     ]
    },
    {
     "data": {
      "image/png": "[encoded data removed]",
      "text/plain": [
       "<Figure size 432x288 with 1 Axes>"
      ]
     },
     "metadata": {
      "needs_background": "light"
     },
     "output_type": "display_data"
    }
   ],
   "source": [
    "# Applying K-Fold\n",
    "kfold = KFold(n_splits=10)\n",
    "\n",
    "# SVM Model\n",
    "svm_model = svm.SVC(kernel='rbf')\n",
    "svm_results = cross_val_score(svm_model, scaled_data, y_df, cv=kfold)\n",
    "print(\"SVM Accuracy:\", svm_results.mean()*100.0)\n",
    "\n",
    "# Logistic Regression Model\n",
    "lr_model = LogisticRegression(max_iter=3000)\n",
    "lr_results = cross_val_score(lr_model, scaled_data, y_df, cv=kfold)\n",
    "print(\"Logistic Regression Accuracy:\", lr_results.mean()*100.0)\n",
    "\n",
    "# plotting the mean scores\n",
    "plt.boxplot([svm_results, lr_results], labels=['SVM_Model', 'LogicReg_Model'], showmeans=True)\n",
    "plt.show()"
   ]
  },
  {
   "cell_type": "markdown",
   "id": "cefab6ed",
   "metadata": {},
   "source": [
    "### Hypothesis test of Normalize Scaled XLM Base (Sentence Transformer) Logistic and SVM Models"
   ]
  },
  {
   "cell_type": "code",
   "execution_count": 7,
   "id": "f538b493",
   "metadata": {},
   "outputs": [],
   "source": [
    "# XLM Base vectorized data\n",
    "x_df = pd.read_csv(pwd+\"//Datasets//Nisha//SentenceTransformers//xlm_vectorized_Nisha_dataset.csv\")\n",
    "\n",
    "# Total data transform\n",
    "normalize_model = Normalizer()\n",
    "scaled_data = normalize_model.fit_transform(x_df)\n",
    "\n",
    "# Test train split\n",
    "x_train,x_test,y_train,y_test = train_test_split(x_df, y_df, test_size=0.30,random_state=21,stratify=y_df)\n",
    "\n",
    "# Normalize scaling of train data\n",
    "normalize_model = Normalizer()\n",
    "nscaled_data_train = normalize_model.fit_transform(x_train)\n",
    "# Normalize scaling of test data\n",
    "nscaled_data_test = normalize_model.fit_transform(x_test)"
   ]
  },
  {
   "cell_type": "code",
   "execution_count": 8,
   "id": "30aab52c",
   "metadata": {},
   "outputs": [
    {
     "name": "stdout",
     "output_type": "stream",
     "text": [
      "SVM Model Accuracy is: 0.7775510204081633\n"
     ]
    }
   ],
   "source": [
    "# SVM Model\n",
    "\n",
    "# Modelling according to the hyper parameters\n",
    "\n",
    "svm_model = svm.SVC(kernel='poly')\n",
    "\n",
    "svm_model.fit(nscaled_data_train, y_train)\n",
    "\n",
    "print(\"SVM Model Accuracy is:\", svm_model.score(nscaled_data_test, y_test))"
   ]
  },
  {
   "cell_type": "code",
   "execution_count": 9,
   "id": "27c2b487",
   "metadata": {},
   "outputs": [
    {
     "name": "stdout",
     "output_type": "stream",
     "text": [
      "Logistic Regression Model Accuracy is: 0.7476190476190476\n"
     ]
    }
   ],
   "source": [
    "# Logistic Regression\n",
    "\n",
    "lr_model = LogisticRegression(max_iter=5000)\n",
    "\n",
    "lr_model.fit(nscaled_data_train, y_train)\n",
    "\n",
    "print(\"Logistic Regression Model Accuracy is:\", lr_model.score(nscaled_data_test, y_test))"
   ]
  },
  {
   "cell_type": "code",
   "execution_count": 10,
   "id": "67883bdb",
   "metadata": {},
   "outputs": [
    {
     "name": "stdout",
     "output_type": "stream",
     "text": [
      "H0: There is no difference between the Two models.\n",
      "H1: One Model is best than other.\n",
      "t statistic: 1.318\n",
      "aplha  0.05\n",
      "p value: 0.245\n",
      "Fail to reject null hypotesis\n"
     ]
    }
   ],
   "source": [
    "from mlxtend.evaluate import paired_ttest_5x2cv\n",
    "\n",
    "t, p = paired_ttest_5x2cv(estimator1=svm_model,estimator2=lr_model,X=scaled_data, y=y_df)\n",
    "alpha = 0.05\n",
    "\n",
    "print(\"H0: There is no difference between the Two models.\\nH1: One Model is best than other.\")\n",
    "\n",
    "print('t statistic: %.3f' % t)\n",
    "print('aplha ', alpha)\n",
    "print('p value: %.3f' % p)\n",
    "\n",
    "if p > alpha:\n",
    "    print(\"Fail to reject null hypotesis\")\n",
    "else:\n",
    "    print(\"Reject null hypotesis\")"
   ]
  },
  {
   "cell_type": "code",
   "execution_count": 11,
   "id": "14f37d46",
   "metadata": {},
   "outputs": [
    {
     "name": "stdout",
     "output_type": "stream",
     "text": [
      "SVM Accuracy: 73.91836734693878\n",
      "Logistic Regression Accuracy: 71.3265306122449\n"
     ]
    },
    {
     "data": {
      "image/png": "[encoded data removed]",
      "text/plain": [
       "<Figure size 432x288 with 1 Axes>"
      ]
     },
     "metadata": {
      "needs_background": "light"
     },
     "output_type": "display_data"
    }
   ],
   "source": [
    "# Applying K-Fold\n",
    "kfold = KFold(n_splits=10)\n",
    "\n",
    "# SVM Model\n",
    "svm_model = svm.SVC(kernel='rbf')\n",
    "svm_results = cross_val_score(svm_model, scaled_data, y_df, cv=kfold)\n",
    "print(\"SVM Accuracy:\", svm_results.mean()*100.0)\n",
    "\n",
    "# Logistic Regression Model\n",
    "lr_model = LogisticRegression(max_iter=5000)\n",
    "lr_results = cross_val_score(lr_model, scaled_data, y_df, cv=kfold)\n",
    "print(\"Logistic Regression Accuracy:\", lr_results.mean()*100.0)\n",
    "\n",
    "# plotting the mean scores\n",
    "plt.boxplot([svm_results, lr_results], labels=['SVM_Model', 'LogicReg_Model'], showmeans=True)\n",
    "plt.show()"
   ]
  },
  {
   "cell_type": "code",
   "execution_count": 12,
   "id": "0b0de337",
   "metadata": {},
   "outputs": [
    {
     "name": "stdout",
     "output_type": "stream",
     "text": [
      "[0.73061224 0.75918367 0.79183673 0.70612245 0.76326531 0.73061224\n",
      " 0.71632653 0.73877551 0.66530612 0.78979592]\n",
      "[0.69591837 0.74285714 0.74285714 0.6877551  0.74897959 0.6877551\n",
      " 0.69795918 0.71020408 0.64489796 0.77346939]\n"
     ]
    }
   ],
   "source": [
    "print(svm_results)\n",
    "print(lr_results)"
   ]
  },
  {
   "cell_type": "code",
   "execution_count": null,
   "id": "4c6dec59",
   "metadata": {},
   "outputs": [],
   "source": []
  }
 ],
 "metadata": {
  "kernelspec": {
   "display_name": "Python 3 (ipykernel)",
   "language": "python",
   "name": "python3"
  },
  "language_info": {
   "codemirror_mode": {
    "name": "ipython",
    "version": 3
   },
   "file_extension": ".py",
   "mimetype": "text/x-python",
   "name": "python",
   "nbconvert_exporter": "python",
   "pygments_lexer": "ipython3",
   "version": "3.9.7"
  }
 },
 "nbformat": 4,
 "nbformat_minor": 5
}
